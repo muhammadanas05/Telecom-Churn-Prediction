{
 "cells": [
  {
   "cell_type": "code",
   "execution_count": 13,
   "metadata": {},
   "outputs": [],
   "source": [
    "import pandas as pd\n",
    "from sklearn.model_selection import train_test_split\n",
    "from sklearn.preprocessing import StandardScaler\n",
    "from sklearn.linear_model import LogisticRegression\n",
    "from sklearn.ensemble import RandomForestClassifier\n",
    "from sklearn.metrics import accuracy_score"
   ]
  },
  {
   "cell_type": "code",
   "execution_count": 14,
   "metadata": {},
   "outputs": [
    {
     "name": "stdout",
     "output_type": "stream",
     "text": [
      "<class 'pandas.core.frame.DataFrame'>\n",
      "RangeIndex: 6500 entries, 0 to 6499\n",
      "Data columns (total 10 columns):\n",
      " #   Column              Non-Null Count  Dtype \n",
      "---  ------              --------------  ----- \n",
      " 0   customer_id         6500 non-null   int64 \n",
      " 1   telecom_partner     6500 non-null   object\n",
      " 2   gender              6500 non-null   object\n",
      " 3   age                 6500 non-null   int64 \n",
      " 4   state               6500 non-null   object\n",
      " 5   city                6500 non-null   object\n",
      " 6   pincode             6500 non-null   int64 \n",
      " 7   registration_event  6500 non-null   object\n",
      " 8   num_dependents      6500 non-null   int64 \n",
      " 9   estimated_salary    6500 non-null   int64 \n",
      "dtypes: int64(5), object(5)\n",
      "memory usage: 507.9+ KB\n",
      "None\n",
      "<class 'pandas.core.frame.DataFrame'>\n",
      "RangeIndex: 6500 entries, 0 to 6499\n",
      "Data columns (total 5 columns):\n",
      " #   Column       Non-Null Count  Dtype\n",
      "---  ------       --------------  -----\n",
      " 0   customer_id  6500 non-null   int64\n",
      " 1   calls_made   6500 non-null   int64\n",
      " 2   sms_sent     6500 non-null   int64\n",
      " 3   data_used    6500 non-null   int64\n",
      " 4   churn        6500 non-null   int64\n",
      "dtypes: int64(5)\n",
      "memory usage: 254.0 KB\n",
      "None\n"
     ]
    }
   ],
   "source": [
    "telecom_demo = pd.read_csv(\"telecom_demographics.csv\")\n",
    "telecom_usage = pd.read_csv(\"telecom_usage.csv\")\n",
    "\n",
    "print(telecom_demo.info())\n",
    "print(telecom_usage.info())"
   ]
  },
  {
   "cell_type": "code",
   "execution_count": 30,
   "metadata": {},
   "outputs": [
    {
     "data": {
      "text/html": [
       "<div>\n",
       "<style scoped>\n",
       "    .dataframe tbody tr th:only-of-type {\n",
       "        vertical-align: middle;\n",
       "    }\n",
       "\n",
       "    .dataframe tbody tr th {\n",
       "        vertical-align: top;\n",
       "    }\n",
       "\n",
       "    .dataframe thead th {\n",
       "        text-align: right;\n",
       "    }\n",
       "</style>\n",
       "<table border=\"1\" class=\"dataframe\">\n",
       "  <thead>\n",
       "    <tr style=\"text-align: right;\">\n",
       "      <th></th>\n",
       "      <th>customer_id</th>\n",
       "      <th>telecom_partner</th>\n",
       "      <th>gender</th>\n",
       "      <th>age</th>\n",
       "      <th>state</th>\n",
       "      <th>city</th>\n",
       "      <th>pincode</th>\n",
       "      <th>registration_event</th>\n",
       "      <th>num_dependents</th>\n",
       "      <th>estimated_salary</th>\n",
       "    </tr>\n",
       "  </thead>\n",
       "  <tbody>\n",
       "    <tr>\n",
       "      <th>0</th>\n",
       "      <td>15169</td>\n",
       "      <td>Airtel</td>\n",
       "      <td>F</td>\n",
       "      <td>26</td>\n",
       "      <td>Himachal Pradesh</td>\n",
       "      <td>Delhi</td>\n",
       "      <td>667173</td>\n",
       "      <td>2020-03-16</td>\n",
       "      <td>4</td>\n",
       "      <td>85979</td>\n",
       "    </tr>\n",
       "    <tr>\n",
       "      <th>1</th>\n",
       "      <td>149207</td>\n",
       "      <td>Airtel</td>\n",
       "      <td>F</td>\n",
       "      <td>74</td>\n",
       "      <td>Uttarakhand</td>\n",
       "      <td>Hyderabad</td>\n",
       "      <td>313997</td>\n",
       "      <td>2022-01-16</td>\n",
       "      <td>0</td>\n",
       "      <td>69445</td>\n",
       "    </tr>\n",
       "    <tr>\n",
       "      <th>2</th>\n",
       "      <td>148119</td>\n",
       "      <td>Airtel</td>\n",
       "      <td>F</td>\n",
       "      <td>54</td>\n",
       "      <td>Jharkhand</td>\n",
       "      <td>Chennai</td>\n",
       "      <td>549925</td>\n",
       "      <td>2022-01-11</td>\n",
       "      <td>2</td>\n",
       "      <td>75949</td>\n",
       "    </tr>\n",
       "    <tr>\n",
       "      <th>3</th>\n",
       "      <td>187288</td>\n",
       "      <td>Reliance Jio</td>\n",
       "      <td>M</td>\n",
       "      <td>29</td>\n",
       "      <td>Bihar</td>\n",
       "      <td>Hyderabad</td>\n",
       "      <td>230636</td>\n",
       "      <td>2022-07-26</td>\n",
       "      <td>3</td>\n",
       "      <td>34272</td>\n",
       "    </tr>\n",
       "    <tr>\n",
       "      <th>4</th>\n",
       "      <td>14016</td>\n",
       "      <td>Vodafone</td>\n",
       "      <td>M</td>\n",
       "      <td>45</td>\n",
       "      <td>Nagaland</td>\n",
       "      <td>Bangalore</td>\n",
       "      <td>188036</td>\n",
       "      <td>2020-03-11</td>\n",
       "      <td>4</td>\n",
       "      <td>34157</td>\n",
       "    </tr>\n",
       "  </tbody>\n",
       "</table>\n",
       "</div>"
      ],
      "text/plain": [
       "   customer_id telecom_partner gender  age             state       city  \\\n",
       "0        15169          Airtel      F   26  Himachal Pradesh      Delhi   \n",
       "1       149207          Airtel      F   74       Uttarakhand  Hyderabad   \n",
       "2       148119          Airtel      F   54         Jharkhand    Chennai   \n",
       "3       187288    Reliance Jio      M   29             Bihar  Hyderabad   \n",
       "4        14016        Vodafone      M   45          Nagaland  Bangalore   \n",
       "\n",
       "   pincode registration_event  num_dependents  estimated_salary  \n",
       "0   667173         2020-03-16               4             85979  \n",
       "1   313997         2022-01-16               0             69445  \n",
       "2   549925         2022-01-11               2             75949  \n",
       "3   230636         2022-07-26               3             34272  \n",
       "4   188036         2020-03-11               4             34157  "
      ]
     },
     "execution_count": 30,
     "metadata": {},
     "output_type": "execute_result"
    }
   ],
   "source": [
    "telecom_demo.head()"
   ]
  },
  {
   "cell_type": "code",
   "execution_count": 31,
   "metadata": {},
   "outputs": [
    {
     "data": {
      "text/html": [
       "<div>\n",
       "<style scoped>\n",
       "    .dataframe tbody tr th:only-of-type {\n",
       "        vertical-align: middle;\n",
       "    }\n",
       "\n",
       "    .dataframe tbody tr th {\n",
       "        vertical-align: top;\n",
       "    }\n",
       "\n",
       "    .dataframe thead th {\n",
       "        text-align: right;\n",
       "    }\n",
       "</style>\n",
       "<table border=\"1\" class=\"dataframe\">\n",
       "  <thead>\n",
       "    <tr style=\"text-align: right;\">\n",
       "      <th></th>\n",
       "      <th>customer_id</th>\n",
       "      <th>calls_made</th>\n",
       "      <th>sms_sent</th>\n",
       "      <th>data_used</th>\n",
       "      <th>churn</th>\n",
       "    </tr>\n",
       "  </thead>\n",
       "  <tbody>\n",
       "    <tr>\n",
       "      <th>0</th>\n",
       "      <td>15169</td>\n",
       "      <td>75</td>\n",
       "      <td>21</td>\n",
       "      <td>4532</td>\n",
       "      <td>1</td>\n",
       "    </tr>\n",
       "    <tr>\n",
       "      <th>1</th>\n",
       "      <td>149207</td>\n",
       "      <td>35</td>\n",
       "      <td>38</td>\n",
       "      <td>723</td>\n",
       "      <td>1</td>\n",
       "    </tr>\n",
       "    <tr>\n",
       "      <th>2</th>\n",
       "      <td>148119</td>\n",
       "      <td>70</td>\n",
       "      <td>47</td>\n",
       "      <td>4688</td>\n",
       "      <td>1</td>\n",
       "    </tr>\n",
       "    <tr>\n",
       "      <th>3</th>\n",
       "      <td>187288</td>\n",
       "      <td>95</td>\n",
       "      <td>32</td>\n",
       "      <td>10241</td>\n",
       "      <td>1</td>\n",
       "    </tr>\n",
       "    <tr>\n",
       "      <th>4</th>\n",
       "      <td>14016</td>\n",
       "      <td>66</td>\n",
       "      <td>23</td>\n",
       "      <td>5246</td>\n",
       "      <td>1</td>\n",
       "    </tr>\n",
       "  </tbody>\n",
       "</table>\n",
       "</div>"
      ],
      "text/plain": [
       "   customer_id  calls_made  sms_sent  data_used  churn\n",
       "0        15169          75        21       4532      1\n",
       "1       149207          35        38        723      1\n",
       "2       148119          70        47       4688      1\n",
       "3       187288          95        32      10241      1\n",
       "4        14016          66        23       5246      1"
      ]
     },
     "execution_count": 31,
     "metadata": {},
     "output_type": "execute_result"
    }
   ],
   "source": [
    "telecom_usage.head()"
   ]
  },
  {
   "cell_type": "markdown",
   "metadata": {},
   "source": [
    "#### Merge the datasets on customer_id"
   ]
  },
  {
   "cell_type": "code",
   "execution_count": 15,
   "metadata": {},
   "outputs": [],
   "source": [
    "churn_df = pd.merge(telecom_demo, telecom_usage, on='customer_id')"
   ]
  },
  {
   "cell_type": "markdown",
   "metadata": {},
   "source": [
    "#### churn rate"
   ]
  },
  {
   "cell_type": "code",
   "execution_count": 16,
   "metadata": {},
   "outputs": [
    {
     "name": "stdout",
     "output_type": "stream",
     "text": [
      "Churn Rate: 20.05%\n"
     ]
    }
   ],
   "source": [
    "churn_rate = churn_df['churn'].mean()\n",
    "print(f\"Churn Rate: {churn_rate:.2%}\")"
   ]
  },
  {
   "cell_type": "code",
   "execution_count": 19,
   "metadata": {},
   "outputs": [
    {
     "name": "stdout",
     "output_type": "stream",
     "text": [
      "Categorical Variables: Index(['telecom_partner', 'gender', 'state', 'city', 'registration_event'], dtype='object')\n"
     ]
    }
   ],
   "source": [
    "categorical_vars = churn_df.select_dtypes(include=['object']).columns\n",
    "print(\"Categorical Variables:\", categorical_vars)"
   ]
  },
  {
   "cell_type": "code",
   "execution_count": 20,
   "metadata": {},
   "outputs": [],
   "source": [
    "churn_df = pd.get_dummies(churn_df, columns=categorical_vars, drop_first=True)"
   ]
  },
  {
   "cell_type": "code",
   "execution_count": 21,
   "metadata": {},
   "outputs": [],
   "source": [
    "X = churn_df.drop(columns=['churn', 'customer_id'])\n",
    "y = churn_df['churn']"
   ]
  },
  {
   "cell_type": "markdown",
   "metadata": {},
   "source": [
    "#### Ensure all data is numeric before scaling"
   ]
  },
  {
   "cell_type": "code",
   "execution_count": 22,
   "metadata": {},
   "outputs": [],
   "source": [
    "assert X.select_dtypes(include=['object']).empty, \"There are still non-numeric columns in the dataset.\""
   ]
  },
  {
   "cell_type": "markdown",
   "metadata": {},
   "source": [
    "#### Feature Scaling"
   ]
  },
  {
   "cell_type": "code",
   "execution_count": 23,
   "metadata": {},
   "outputs": [],
   "source": [
    "scaler = StandardScaler()\n",
    "X_scaled = scaler.fit_transform(X)"
   ]
  },
  {
   "cell_type": "markdown",
   "metadata": {},
   "source": [
    "### Splitting the data"
   ]
  },
  {
   "cell_type": "code",
   "execution_count": 24,
   "metadata": {},
   "outputs": [],
   "source": [
    "X_train, X_test, y_train, y_test = train_test_split(X_scaled, y, test_size=0.2, random_state=42)"
   ]
  },
  {
   "cell_type": "markdown",
   "metadata": {},
   "source": [
    "### Train Logistic Regression model"
   ]
  },
  {
   "cell_type": "code",
   "execution_count": 25,
   "metadata": {},
   "outputs": [],
   "source": [
    "logreg = LogisticRegression(random_state=42)\n",
    "logreg.fit(X_train, y_train)\n",
    "logreg_pred = logreg.predict(X_test)"
   ]
  },
  {
   "cell_type": "markdown",
   "metadata": {},
   "source": [
    "### Train Random Forest Classifier model"
   ]
  },
  {
   "cell_type": "code",
   "execution_count": 26,
   "metadata": {},
   "outputs": [],
   "source": [
    "rf = RandomForestClassifier(random_state=42)\n",
    "rf.fit(X_train, y_train)\n",
    "rf_pred = rf.predict(X_test)"
   ]
  },
  {
   "cell_type": "markdown",
   "metadata": {},
   "source": [
    "### Assess models on test data"
   ]
  },
  {
   "cell_type": "code",
   "execution_count": 27,
   "metadata": {},
   "outputs": [],
   "source": [
    "logreg_accuracy = accuracy_score(y_test, logreg_pred)\n",
    "rf_accuracy = accuracy_score(y_test, rf_pred)"
   ]
  },
  {
   "cell_type": "markdown",
   "metadata": {},
   "source": [
    "## Determine which model has higher accuracy"
   ]
  },
  {
   "cell_type": "code",
   "execution_count": 28,
   "metadata": {},
   "outputs": [],
   "source": [
    "if logreg_accuracy > rf_accuracy:\n",
    "    higher_accuracy = \"LogisticRegression\"\n",
    "else:\n",
    "    higher_accuracy = \"RandomForest\""
   ]
  },
  {
   "cell_type": "code",
   "execution_count": 29,
   "metadata": {},
   "outputs": [
    {
     "name": "stdout",
     "output_type": "stream",
     "text": [
      "Logistic Regression Accuracy: 72.46%\n",
      "Random Forest Accuracy: 79.08%\n",
      "Higher Accuracy Model: RandomForest\n"
     ]
    }
   ],
   "source": [
    "print(f\"Logistic Regression Accuracy: {logreg_accuracy:.2%}\")\n",
    "print(f\"Random Forest Accuracy: {rf_accuracy:.2%}\")\n",
    "print(f\"Higher Accuracy Model: {higher_accuracy}\")"
   ]
  }
 ],
 "metadata": {
  "kernelspec": {
   "display_name": "base",
   "language": "python",
   "name": "python3"
  },
  "language_info": {
   "codemirror_mode": {
    "name": "ipython",
    "version": 3
   },
   "file_extension": ".py",
   "mimetype": "text/x-python",
   "name": "python",
   "nbconvert_exporter": "python",
   "pygments_lexer": "ipython3",
   "version": "3.11.7"
  }
 },
 "nbformat": 4,
 "nbformat_minor": 2
}
